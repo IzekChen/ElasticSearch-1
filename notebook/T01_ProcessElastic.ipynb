{
 "cells": [
  {
   "cell_type": "code",
   "execution_count": 11,
   "metadata": {},
   "outputs": [],
   "source": [
    "import sys,os,csv,json"
   ]
  },
  {
   "cell_type": "code",
   "execution_count": 15,
   "metadata": {},
   "outputs": [],
   "source": [
    "sys.path.append('../bin')\n",
    "from utils import *\n",
    "import elastic as elk"
   ]
  },
  {
   "cell_type": "code",
   "execution_count": 13,
   "metadata": {},
   "outputs": [],
   "source": [
    "index = \"repsol\"\n",
    "path_csv = \"../doc/Todos_los_equipos_Peru.csv\""
   ]
  },
  {
   "cell_type": "code",
   "execution_count": 14,
   "metadata": {},
   "outputs": [
    {
     "name": "stdout",
     "output_type": "stream",
     "text": [
      "[../doc/Todos_los_equipos_Peru.csv] -> Datos cargados:1452\n",
      "[DEL]:200 | OK\n",
      "[POST_BULK] Elapsed time : 0.5797219276 seconds\n",
      "\n"
     ]
    }
   ],
   "source": [
    "lista_json = loadCSVtoJSON(path_csv)\n",
    "ec = elk.elasticsearch()\n",
    "ec.delete_by_index(index)\n",
    "ec.post_bulk(lista_json,headers={\"index\":{\"_index\":index , \"_type\":\"_doc\"}})"
   ]
  },
  {
   "cell_type": "code",
   "execution_count": null,
   "metadata": {},
   "outputs": [],
   "source": [
    "ec.process_repsol()"
   ]
  },
  {
   "cell_type": "code",
   "execution_count": null,
   "metadata": {},
   "outputs": [],
   "source": [
    "ec.req_get()"
   ]
  }
 ],
 "metadata": {
  "kernelspec": {
   "display_name": "Python 2",
   "language": "python",
   "name": "python2"
  },
  "language_info": {
   "codemirror_mode": {
    "name": "ipython",
    "version": 2
   },
   "file_extension": ".py",
   "mimetype": "text/x-python",
   "name": "python",
   "nbconvert_exporter": "python",
   "pygments_lexer": "ipython2",
   "version": "2.7.14"
  }
 },
 "nbformat": 4,
 "nbformat_minor": 2
}
